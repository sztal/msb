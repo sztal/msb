{
 "cells": [
  {
   "attachments": {},
   "cell_type": "markdown",
   "metadata": {},
   "source": [
    "# Comparison of MSB with counting simple cycles "
   ]
  },
  {
   "cell_type": "code",
   "execution_count": 1,
   "metadata": {},
   "outputs": [
    {
     "name": "stderr",
     "output_type": "stream",
     "text": [
      "/home/sztal/.conda/envs/msb/lib/python3.10/site-packages/igraph/io/files.py:189: RuntimeWarning: Could not add vertex ids, there is already an 'id' vertex attribute. at src/io/graphml.c:485\n",
      "  return cls.Read_GraphML(tmpfile, index=index)\n"
     ]
    }
   ],
   "source": [
    "import random\n",
    "import pickle\n",
    "import gzip\n",
    "from pathlib import Path\n",
    "import numpy as np\n",
    "import pandas as pd\n",
    "import igraph as ig\n",
    "import networkx as nx\n",
    "import matplotlib as mpl\n",
    "import matplotlib.pyplot as plt\n",
    "import seaborn as sns\n",
    "from tqdm.auto import tqdm\n",
    "from msb import Balance\n",
    "from msb.cycleindex import balance_ratio\n",
    "\n",
    "#%matplotlib inline\n",
    "sns.set_theme(\n",
    "    context=\"notebook\",\n",
    "    style=\"ticks\",\n",
    "    font_scale=1.3,\n",
    "    palette=\"deep\"\n",
    ")\n",
    "\n",
    "COLORS = np.array([\"#7aa063\", \"#c86b57\", \"#9d6ebd\"])\n",
    "RED    = \"#f97959\"\n",
    "BLUE   = \"#60a1f7\"\n",
    "GRAY   = \"#efefef\"\n",
    "\n",
    "# Paths\n",
    "HERE = Path(\".\").absolute()\n",
    "ROOT = HERE.parent\n",
    "DATA = ROOT/\"data\"\n",
    "FIGS = ROOT/\"figs\"\n",
    "FIGS.mkdir(exist_ok=True)\n",
    "\n",
    "# Balance params\n",
    "BKWS = dict(m=None)\n",
    "\n",
    "# Network datasets\n",
    "LABELS = {\n",
    "    \"new-guinea-tribes\":   \"Tribes\",\n",
    "    \"sampson/t1\":          \"Monks (1)\",\n",
    "    \"sampson/t2\":          \"Monks (2)\",\n",
    "    \"sampson/t3\":          \"Monks (3)\",\n",
    "    \"sampson/t4\":          \"Monks (4)\",\n",
    "    \"sampson/t5\":          \"Monks (5)\",\n",
    "}\n",
    "NETWORKS = {\n",
    "    name: ig.Graph.Read_GraphMLz(DATA/f\"{label}.graphml.gz\")\n",
    "    for label, name in LABELS.items()\n",
    "}"
   ]
  },
  {
   "cell_type": "code",
   "execution_count": 2,
   "metadata": {},
   "outputs": [
    {
     "data": {
      "application/vnd.jupyter.widget-view+json": {
       "model_id": "53eb8c666eb5492ba68e90723e372b73",
       "version_major": 2,
       "version_minor": 0
      },
      "text/plain": [
       "  0%|          | 0/6 [00:00<?, ?it/s]"
      ]
     },
     "metadata": {},
     "output_type": "display_data"
    },
    {
     "data": {
      "application/vnd.jupyter.widget-view+json": {
       "model_id": "9fb4d1d752b54fd6abcfdcd7700e41cb",
       "version_major": 2,
       "version_minor": 0
      },
      "text/plain": [
       "  0%|          | 0/6 [00:00<?, ?it/s]"
      ]
     },
     "metadata": {},
     "output_type": "display_data"
    }
   ],
   "source": [
    "def get_A(graph: ig.Graph) -> np.ndarray:\n",
    "    \"\"\"Get adjacency array.\"\"\"\n",
    "    return np.array([*graph.get_adjacency(attribute=\"weight\")])\n",
    "\n",
    "BALANCE = { \n",
    "    k: Balance(v, **BKWS) \n",
    "    for k, v in tqdm(NETWORKS.items())\n",
    "}\n",
    "CYCLES  = { \n",
    "    k: balance_ratio(get_A(v), exact=True, length=v.vcount())\n",
    "    for k, v in tqdm(NETWORKS.items())\n",
    "}"
   ]
  },
  {
   "cell_type": "code",
   "execution_count": null,
   "metadata": {},
   "outputs": [],
   "source": [
    "data = []\n",
    "for name, B in BALANCE.items():\n",
    "    cycle = np.clip(1-CYCLES[name], 0, 1)\n",
    "    K = B.K(kmax=B.n_nodes)\n",
    "    msb = B.k_balance(K=K)\n",
    "    contrib = B.contrib(K=K)\n",
    "    df = pd.DataFrame({\n",
    "        \"cycle\":   cycle[-K.size:],\n",
    "        \"msb\":     msb,\n",
    "        \"contrib\": contrib.to_numpy()\n",
    "    }, index=pd.Series(K, name=\"K\"))\n",
    "    data.append(df)\n",
    "\n",
    "data = pd.concat(data, keys=pd.Series(list(BALANCE), name=\"name\"))"
   ]
  },
  {
   "cell_type": "code",
   "execution_count": null,
   "metadata": {},
   "outputs": [],
   "source": [
    "relerr"
   ]
  },
  {
   "cell_type": "code",
   "execution_count": null,
   "metadata": {},
   "outputs": [],
   "source": [
    "fig, axes = plt.subplots(nrows=2, ncols=3, figsize=(16, 8))\n",
    "\n",
    "for ax, group in zip(axes.flatten(), data.groupby(level=\"name\", sort=False)):\n",
    "    name, gdf = group\n",
    "    K = gdf.index.get_level_values(\"K\")\n",
    "    kws = {\"ls\": \"--\", \"lw\": 3, \"markersize\": 12, \"markeredgecolor\": \"black\"}\n",
    "    ax.plot(K, gdf[\"msb\"], marker=\"s\", color=RED, **kws, label=\"MSB\") \n",
    "    ax.plot(K, gdf[\"cycle\"], marker=\"o\", color=BLUE, **kws, label=\"Cycles\")\n",
    "    ax.set_title(name)\n",
    "    ax.xaxis.set_major_locator(mpl.ticker.MaxNLocator(integer=True))\n",
    "    ax.set_ylim(.4, 1)\n",
    "    # Correlation\n",
    "    r = gdf.corr(method=\"pearson\").loc[\"cycle\", \"msb\"]\n",
    "    relerr = np.abs((gdf[\"msb\"] - gdf[\"cycle\"]) / gdf[\"cycle\"]).mean()\n",
    "    # Legend and annotations\n",
    "    t1 = rf\"$r = {r:.3f}$\"\n",
    "    t2 = rf\"$\\epsilon = {relerr:.3f}$\"\n",
    "    akws = {\"fontsize\": 14, \"transform\": ax.transAxes}\n",
    "    if name == \"Tribes\":\n",
    "        ax.text(.77, .65, t1, **akws)\n",
    "        ax.text(.77, .55, t2, **akws)\n",
    "        ax.legend(fontsize=14, markerscale=1.2, facecolor=\"#f2f2f2\")\n",
    "    else:\n",
    "        ax.text(.77, .9, t1, **akws)\n",
    "        ax.text(.77, .8, t2, **akws)\n",
    "\n",
    "fonts = {\"fontsize\": 18, \"fontweight\": \"bold\"}\n",
    "fig.supxlabel(\"Cycle length\", y=.04, **fonts) \n",
    "fig.supylabel(\"Degree of balance\", **fonts)\n",
    "fig.tight_layout()"
   ]
  },
  {
   "cell_type": "code",
   "execution_count": null,
   "metadata": {},
   "outputs": [],
   "source": [
    "df = data.loc[\"Tribes\"]\n",
    "\n",
    "fig, ax = plt.subplots(figsize=(7, 4))\n",
    "\n",
    "ax.plot(\n",
    "    df.index, df[\"cycle\"], ls=\"--\", lw=3, color=RED,\n",
    "    marker=\"o\", markersize=15, markeredgecolor=\"black\"\n",
    ")\n",
    "ax.set_ylim(.4, 1)\n",
    "ax.xaxis.set_major_locator(mpl.ticker.MaxNLocator(integer=True))\n",
    "ax.set_xlabel(r\"Cycle length ($k$)\", fontsize=24)\n",
    "ax.set_ylabel(r\"$B_k(G)$\", fontsize=24)\n",
    "\n",
    "fig.tight_layout()\n",
    "fig.savefig(FIGS/\"cycles.pdf\", bbox_inches=\"tight\")"
   ]
  }
 ],
 "metadata": {
  "kernelspec": {
   "display_name": "Python 3 (ipykernel)",
   "language": "python",
   "name": "python3"
  },
  "language_info": {
   "codemirror_mode": {
    "name": "ipython",
    "version": 3
   },
   "file_extension": ".py",
   "mimetype": "text/x-python",
   "name": "python",
   "nbconvert_exporter": "python",
   "pygments_lexer": "ipython3",
   "version": "3.10.11"
  },
  "vscode": {
   "interpreter": {
    "hash": "483ddff424ff2ef93d33b3d648690cb3c92b58a9dc5bb8a05af0c74a6b632313"
   }
  }
 },
 "nbformat": 4,
 "nbformat_minor": 4
}
