{
 "cells": [
  {
   "attachments": {},
   "cell_type": "markdown",
   "metadata": {},
   "source": [
    "# Tests of the main workhorse functions\n",
    "\n",
    "In this notebook we present a proof-of-work for the main workhorse functions\n",
    "used for Multiscale Semiwalk Balance(MSB) calculations. These are functions \n",
    "used for calculating arbitrary powers and truncated matrix exponentials \n",
    "as well as their traces and diagonals. Other high-level methods used for\n",
    "calculating balance measures, profiles and contributions are just simple \n",
    "wrappers around the workhorse functions.\n",
    "\n",
    "We test our efficient implementations based on eigendecompositions against\n",
    "naive and inefficient but very straightforward implementations defined below.\n",
    "We use a real-world network of Sampson's monks (at time $t = 4$).\n",
    "As the results show, there is a perfect match between the two implementations\n",
    "which means that our implementation is correct.\n",
    "\n",
    "All tests work based on semiwalks and semiadjacency matrices, so the naive\n",
    "functions automatically handle the case of $k=2$ when the ordinary adjacency\n",
    "matrix is used.\n",
    "\n",
    "Note that for the purpose of testing we use the full spectrum (all eigenvalues)\n",
    "so the results are exact and therefore match the naive implementation.\n",
    "However, in practice it is often more convenient to use approximations\n",
    "based only on leading eigenvalues from the both ends of the spectrum.\n",
    "We study accuracy of such approximations in a separate notebook."
   ]
  },
  {
   "cell_type": "code",
   "execution_count": 1,
   "metadata": {},
   "outputs": [],
   "source": [
    "from pathlib import Path\n",
    "from math import factorial\n",
    "import igraph as ig\n",
    "import numpy as np\n",
    "from scipy.sparse import csr_matrix, csr_array, identity\n",
    "from scipy.sparse.linalg import expm as _expm\n",
    "from msb import Balance\n",
    "\n",
    "# Globals\n",
    "ROOT = Path(\".\").absolute().parent\n",
    "DATA = ROOT/\"data\"/\"sampson\"\n"
   ]
  },
  {
   "cell_type": "code",
   "execution_count": 2,
   "metadata": {},
   "outputs": [],
   "source": [
    "## NAIVE IMPLEMENTATIONS FOR TESTING\n",
    "def tr(X):\n",
    "    return X.diagonal().sum()\n",
    "\n",
    "\n",
    "## MATRIX FUNCTIONS USED IN STRONG BALANCE COMPUTATIONS\n",
    "def mpow(X, k=1, force_semi=False):\n",
    "    if k > 2 or force_semi:\n",
    "        # Semiadjacency matrix is used only for lengths k > 2\n",
    "        # unless forced\n",
    "        X = (X + X.T) / 2\n",
    "    if k == 0:\n",
    "        return identity(X.shape[0], dtype=X.dtype)\n",
    "    P = X\n",
    "    for _ in range(1, k):\n",
    "        P = P@X\n",
    "    return P\n",
    "\n",
    "def texp(X, k0=0, k1=30):\n",
    "    Y = X.copy()\n",
    "    Y.data[:] = 0\n",
    "    Y.eliminate_zeros()\n",
    "    for k in range(k0, k1+1):\n",
    "        Y += mpow(X, k) / factorial(k)\n",
    "    return Y\n",
    "\n",
    "## MATRIX FUNCTIONS USED IN WEAK BALANCE COMPUTATIONS\n",
    "def PNP_pow(N, P, k):\n",
    "    Q = csr_matrix(N.shape, dtype=N.dtype)\n",
    "    if k == 0:\n",
    "        return identity(Q.shape[0], dtype=Q.dtype)\n",
    "    for l in range(1, k+1):\n",
    "        Q += mpow(P, l-1, force_semi=True)@N@mpow(P, k-l, force_semi=True)\n",
    "    return Q\n",
    "\n",
    "def PNP_texp(N, P, k0, k1, beta=1):\n",
    "    Q = csr_matrix(N.shape, dtype=N.dtype)\n",
    "    for k in range(k0, k1+1):\n",
    "        Q += PNP_pow(N, P, k) * beta**k / factorial(k)\n",
    "    return Q\n"
   ]
  },
  {
   "cell_type": "code",
   "execution_count": 3,
   "metadata": {},
   "outputs": [
    {
     "name": "stderr",
     "output_type": "stream",
     "text": [
      "/home/sztal/miniconda3/envs/msb/lib/python3.10/site-packages/igraph/io/files.py:189: RuntimeWarning: Could not add vertex ids, there is already an 'id' vertex attribute. at src/io/graphml.c:492\n",
      "  return cls.Read_GraphML(tmpfile, index=index)\n"
     ]
    }
   ],
   "source": [
    "## Number of powers to check\n",
    "K = 30\n",
    "## Inverse temperature values\n",
    "BETA = [1/3, 1/2, 1]\n",
    "\n",
    "# Get Sampsons network at T=4\n",
    "G = ig.Graph.Read_GraphMLz(str(DATA/\"t4.graphml.gz\"))\n",
    "B = Balance(G, beta=BETA, m=None, kmax=K)\n"
   ]
  },
  {
   "attachments": {},
   "cell_type": "markdown",
   "metadata": {},
   "source": [
    "## Test trace power calculations\n",
    "\n",
    "$$\n",
    "\\text{tr}A^k\n",
    "$$\n",
    "\n",
    "### Unsigned adjacency matrix"
   ]
  },
  {
   "cell_type": "code",
   "execution_count": 4,
   "metadata": {},
   "outputs": [],
   "source": [
    "X = B.U\n",
    "\n",
    "## CALCULATED VALUES\n",
    "Y = np.real(np.exp(B.ltr_pow(X)))\n",
    "\n",
    "## EXPECTED VALUE\n",
    "E = np.array([ tr(mpow(X, k)) for k in B.K() ])\n",
    "\n",
    "assert np.allclose(Y, E), \"results do not match!\"\n"
   ]
  },
  {
   "attachments": {},
   "cell_type": "markdown",
   "metadata": {},
   "source": [
    "### Signed adjacency matrix"
   ]
  },
  {
   "cell_type": "code",
   "execution_count": 5,
   "metadata": {},
   "outputs": [],
   "source": [
    "X = B.S\n",
    "\n",
    "## CALCULATED VALUES\n",
    "Y = np.real(np.exp(B.ltr_pow(X)))\n",
    "\n",
    "## EXPECTED VALUE\n",
    "E = np.array([ tr(mpow(X, k)) for k in B.K() ])\n",
    "\n",
    "assert np.allclose(Y, E), \"results do not match!\"\n"
   ]
  },
  {
   "attachments": {},
   "cell_type": "markdown",
   "metadata": {},
   "source": [
    "## Test trace exponential calculations\n",
    "\n",
    "$$\n",
    "\\text{tr}e^{\\beta{}A} = \\left(\n",
    "    \\sum_{k=0}^\\infty\\frac{\\beta^k}{k!}A^k\n",
    "\\right)\n",
    "$$\n",
    "\n",
    "### Unsigned adjacency matrix"
   ]
  },
  {
   "cell_type": "code",
   "execution_count": 6,
   "metadata": {},
   "outputs": [],
   "source": [
    "X = B.U\n",
    "\n",
    "## CALCULATED VALUES\n",
    "Y = np.real(np.exp(B.ltr_texp(X, beta=BETA, K=B.K(0))))\n",
    "\n",
    "## EXPECTED VALUES\n",
    "E = np.array([ tr(texp(X*b)) for b in BETA ])\n",
    "\n",
    "assert np.allclose(Y, E, rtol=1e-4), \"results do not match!\"\n"
   ]
  },
  {
   "attachments": {},
   "cell_type": "markdown",
   "metadata": {},
   "source": [
    "### Signed adjacency matrix"
   ]
  },
  {
   "cell_type": "code",
   "execution_count": 7,
   "metadata": {},
   "outputs": [],
   "source": [
    "X = B.S\n",
    "\n",
    "## CALCULATED VALUES\n",
    "Y = np.real(np.exp(B.ltr_texp(X, beta=BETA, K=B.K(0))))\n",
    "\n",
    "## EXPECTED VALUES\n",
    "E = np.array([ tr(texp(X*b)) for b in BETA ])\n",
    "\n",
    "assert np.allclose(Y, E), \"results do not match!\"\n"
   ]
  },
  {
   "attachments": {},
   "cell_type": "markdown",
   "metadata": {},
   "source": [
    "## Test diagonal powers calculations\n",
    "\n",
    "$$\n",
    "\\text{diag}A^k\n",
    "$$\n",
    "\n",
    "### Unsigned adjacency matrix"
   ]
  },
  {
   "cell_type": "code",
   "execution_count": 8,
   "metadata": {},
   "outputs": [],
   "source": [
    "X = B.U\n",
    "\n",
    "## CALCULATED VALUES\n",
    "Y = np.real(np.exp(B.ldiag_pow(X)))\n",
    "\n",
    "## EXPECTED VALUES\n",
    "E = np.column_stack([ mpow(X, k).diagonal() for k in B.K() ])\n",
    "\n",
    "assert np.allclose(Y, E), \"results do not match!\"\n"
   ]
  },
  {
   "attachments": {},
   "cell_type": "markdown",
   "metadata": {},
   "source": [
    "### Signed adjacency matrix"
   ]
  },
  {
   "cell_type": "code",
   "execution_count": 9,
   "metadata": {},
   "outputs": [],
   "source": [
    "X = B.S\n",
    "\n",
    "## CALCULATED VALUES\n",
    "Y = np.real(np.exp(B.ldiag_pow(X)))\n",
    "\n",
    "## EXPECTED VALUES\n",
    "E = np.column_stack([ mpow(X, k).diagonal() for k in B.K() ])\n",
    "\n",
    "assert np.allclose(Y, E), \"results do not match!\"\n"
   ]
  },
  {
   "attachments": {},
   "cell_type": "markdown",
   "metadata": {},
   "source": [
    "## Test diagonal exponential calculations\n",
    "\n",
    "$$\n",
    "\\text{diag}e^{\\beta{}A} = \\left(\n",
    "    \\sum_{k=0}^\\infty\\frac{\\beta^k}{k!}A^k\n",
    "\\right)\n",
    "$$\n",
    "\n",
    "### Unsigned adjacency matrix"
   ]
  },
  {
   "cell_type": "code",
   "execution_count": 10,
   "metadata": {},
   "outputs": [],
   "source": [
    "X = B.U\n",
    "\n",
    "## CALCULATED VALUES\n",
    "Y = np.real(np.exp(B.ldiag_texp(X, beta=BETA, K=B.K(0))))\n",
    "\n",
    "## EXPECTED VALUES\n",
    "E = np.column_stack([ texp(X*b).diagonal() for b in BETA ])\n",
    "\n",
    "\n",
    "assert np.allclose(Y, E, rtol=1e-4), \"results do not match!\"\n"
   ]
  },
  {
   "attachments": {},
   "cell_type": "markdown",
   "metadata": {},
   "source": [
    "### Signed adjacency matrix"
   ]
  },
  {
   "cell_type": "code",
   "execution_count": 11,
   "metadata": {},
   "outputs": [],
   "source": [
    "X = B.S\n",
    "\n",
    "## CALCULATED VALUES\n",
    "Y = np.real(np.exp(B.ldiag_texp(X, beta=BETA, K=B.K(0))))\n",
    "\n",
    "## EXPECTED VALUES\n",
    "E = np.column_stack([ texp(X*b).diagonal() for b in BETA ])\n",
    "\n",
    "\n",
    "assert np.allclose(Y, E), \"results do not match!\"\n"
   ]
  },
  {
   "attachments": {},
   "cell_type": "markdown",
   "metadata": {},
   "source": [
    "## Test $PNP$ trace powers calculations\n",
    "\n",
    "$$\n",
    "\\text{tr}\\left(\n",
    "    \\sum_{l=1}^kP^{l-1}NP^{k-l}\n",
    "\\right)\n",
    "$$"
   ]
  },
  {
   "cell_type": "code",
   "execution_count": 12,
   "metadata": {},
   "outputs": [],
   "source": [
    "N = B.N\n",
    "P = B.P\n",
    "\n",
    "## CALCULATED VALUES\n",
    "Y = np.real(np.exp(B.ltr_Vk()))\n",
    "\n",
    "## EXPECTED VALUES\n",
    "E = np.array([ tr(PNP_pow(N, P, k)) for k in B.K() ])\n",
    "\n",
    "assert np.allclose(Y, E), \"results do not match!\"\n"
   ]
  },
  {
   "attachments": {},
   "cell_type": "markdown",
   "metadata": {},
   "source": [
    "## Test $PNP$ trace truncated exponential calculations\n",
    "\n",
    "$$\n",
    "\\text{tr}\\left(\n",
    "    \\sum_{k=0}^K\\frac{\\beta^k}{k!}\\sum_{l=1}^k P^{l-1}NP^{k-l}\n",
    "\\right)\n",
    "$$"
   ]
  },
  {
   "cell_type": "code",
   "execution_count": 13,
   "metadata": {},
   "outputs": [],
   "source": [
    "N = B.N\n",
    "P = B.P\n",
    "\n",
    "## CALCULATED VALUES\n",
    "Y = np.real(np.exp(B.ltr_V(beta=BETA)))\n",
    "\n",
    "## EXPECTED VALUES\n",
    "E = np.array([ tr(PNP_texp(N, P, *B.krange(), beta=b)) for b in BETA ])\n",
    "\n",
    "assert np.allclose(Y, E), \"results do not match!\"\n"
   ]
  },
  {
   "attachments": {},
   "cell_type": "markdown",
   "metadata": {},
   "source": [
    "## Test $PNP$ diagonal powers calculations\n",
    "\n",
    "$$\n",
    "\\text{diag}\\left(\n",
    "    \\sum_{l=1}^k P^{l-1}NP^{k-l}\n",
    "\\right)\n",
    "$$"
   ]
  },
  {
   "cell_type": "code",
   "execution_count": 14,
   "metadata": {},
   "outputs": [],
   "source": [
    "N = B.N\n",
    "P = B.P\n",
    "\n",
    "## CALCULATED VALUES\n",
    "Y = np.real(np.exp(B.ldiag_Vk()))\n",
    "\n",
    "## EXPECTED VALUES\n",
    "E = np.column_stack([ PNP_pow(N, P, k).diagonal() for k in B.K() ])\n",
    "\n",
    "assert np.allclose(Y, E), \"results do not match!\"\n"
   ]
  },
  {
   "attachments": {},
   "cell_type": "markdown",
   "metadata": {},
   "source": [
    "## Test $PNP$ diagonal truncated exponential calculations\n",
    "\n",
    "$$\n",
    "\\text{diag}\\left(\n",
    "    \\sum_{k=0}^K\\frac{\\beta^k}{k!}\\sum_{l=1}^k P^{l-1}NP^{k-l}\n",
    "\\right)\n",
    "$$"
   ]
  },
  {
   "cell_type": "code",
   "execution_count": 15,
   "metadata": {},
   "outputs": [],
   "source": [
    "N = B.N\n",
    "P = B.P\n",
    "\n",
    "## CALCULATED VALUES\n",
    "Y = np.real(np.exp(B.ldiag_V()))\n",
    "\n",
    "## EXPECTED VALUES\n",
    "E = np.column_stack([ PNP_texp(N, P, *B.krange(), beta=b).diagonal() for b in BETA ])\n",
    "\n",
    "assert np.allclose(Y, E), \"results do not match!\"\n"
   ]
  },
  {
   "attachments": {},
   "cell_type": "markdown",
   "metadata": {},
   "source": [
    "## Test matrix power calculations\n",
    "\n",
    "$$\n",
    "S^k = Q\\Lambda^kQ^\\top\n",
    "$$"
   ]
  },
  {
   "attachments": {},
   "cell_type": "markdown",
   "metadata": {},
   "source": [
    "### Unsigned semiadjacency matrix"
   ]
  },
  {
   "cell_type": "code",
   "execution_count": 16,
   "metadata": {},
   "outputs": [],
   "source": [
    "X = B.U\n",
    "\n",
    "for k in B.K():\n",
    "    Y = np.real(np.exp(B.lpow(X, k)))\n",
    "    E = csr_array(mpow(X, k)).todense()\n",
    "    assert np.allclose(Y, E), \"results do not match!\"\n"
   ]
  },
  {
   "attachments": {},
   "cell_type": "markdown",
   "metadata": {},
   "source": [
    "### Signed semiadjacency matrix"
   ]
  },
  {
   "cell_type": "code",
   "execution_count": 17,
   "metadata": {},
   "outputs": [],
   "source": [
    "X = B.S\n",
    "\n",
    "for k in B.K():\n",
    "    Y = np.real(np.exp(B.lpow(X, k)))\n",
    "    E = csr_array(mpow(X, k)).todense()\n",
    "    assert np.allclose(Y, E), \"results do not match!\"\n"
   ]
  },
  {
   "attachments": {},
   "cell_type": "markdown",
   "metadata": {},
   "source": [
    "## Test matrix exponential calculations\n",
    "\n",
    "$$\n",
    "e^{\\beta{}A} = \\sum_{k=k_0}^{k_1}\\frac{\\beta^k}{k!}S^k\n",
    "$$"
   ]
  },
  {
   "attachments": {},
   "cell_type": "markdown",
   "metadata": {},
   "source": [
    "### Unsigned semiadjacency matrix"
   ]
  },
  {
   "cell_type": "code",
   "execution_count": 18,
   "metadata": {},
   "outputs": [],
   "source": [
    "X = B.U\n",
    "\n",
    "for beta in BETA:\n",
    "    Y = np.real(np.exp(B.ltexp(X, beta=beta)))\n",
    "    E = csr_array(texp(X*beta, *B.krange())).todense()\n",
    "    assert np.allclose(Y, E, rtol=1e-4), \"results do not match!\"\n"
   ]
  },
  {
   "attachments": {},
   "cell_type": "markdown",
   "metadata": {},
   "source": [
    "### Signed semiadjacency matrix"
   ]
  },
  {
   "cell_type": "code",
   "execution_count": 19,
   "metadata": {},
   "outputs": [],
   "source": [
    "X = B.S\n",
    "\n",
    "for beta in BETA:\n",
    "    Y = np.real(np.exp(B.ltexp(X, beta=beta)))\n",
    "    E = csr_array(texp(X*beta, *B.krange())).todense()\n",
    "    assert np.allclose(Y, E, rtol=1e-2), \"results do not match!\"\n"
   ]
  },
  {
   "attachments": {},
   "cell_type": "markdown",
   "metadata": {},
   "source": [
    "## Test $PNP$ matrix power calclations\n",
    "\n",
    "$$\n",
    "\\sum_{l=1}^kP^{l-1}NP^{k-l}\n",
    "$$"
   ]
  },
  {
   "cell_type": "code",
   "execution_count": 20,
   "metadata": {},
   "outputs": [],
   "source": [
    "N = B.N\n",
    "P = B.P\n",
    "\n",
    "for k in B.K():\n",
    "    Y = np.real(np.exp(B.lnVk(k)))\n",
    "    E = csr_array(PNP_pow(N, P, k)).todense()\n",
    "    assert np.allclose(Y, E), \"results do not match\"\n"
   ]
  },
  {
   "attachments": {},
   "cell_type": "markdown",
   "metadata": {},
   "source": [
    "## Test $PNP$ matrix exponential calculations\n",
    "\n",
    "$$\n",
    "\\sum_{k=k_0}^{k_1}\\frac{\\beta^k}{k!}\\sum_{l=1}^kP^{l-1}NP^{k-l}\n",
    "$$"
   ]
  },
  {
   "cell_type": "code",
   "execution_count": 21,
   "metadata": {
    "tags": []
   },
   "outputs": [],
   "source": [
    "N = B.N\n",
    "P = B.P\n",
    "\n",
    "for beta in BETA:\n",
    "    Y = np.real(np.exp(B.lnV(beta=beta)))\n",
    "    E = csr_array(PNP_texp(N, P, *B.krange(), beta=beta)).todense()\n",
    "    assert np.allclose(Y, E), \"results do not match\"\n"
   ]
  }
 ],
 "metadata": {
  "kernelspec": {
   "display_name": "Python 3 (ipykernel)",
   "language": "python",
   "name": "python3"
  },
  "language_info": {
   "codemirror_mode": {
    "name": "ipython",
    "version": 3
   },
   "file_extension": ".py",
   "mimetype": "text/x-python",
   "name": "python",
   "nbconvert_exporter": "python",
   "pygments_lexer": "ipython3",
   "version": "3.10.12"
  },
  "vscode": {
   "interpreter": {
    "hash": "483ddff424ff2ef93d33b3d648690cb3c92b58a9dc5bb8a05af0c74a6b632313"
   }
  }
 },
 "nbformat": 4,
 "nbformat_minor": 4
}
